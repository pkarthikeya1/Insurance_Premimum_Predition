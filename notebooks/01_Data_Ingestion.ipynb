{
 "cells": [
  {
   "cell_type": "code",
   "execution_count": 1,
   "metadata": {},
   "outputs": [
    {
     "data": {
      "text/plain": [
       "'c:\\\\Users\\\\karthikeya\\\\Insurance_Premium_Prediction\\\\notebooks'"
      ]
     },
     "execution_count": 1,
     "metadata": {},
     "output_type": "execute_result"
    }
   ],
   "source": [
    "%pwd"
   ]
  },
  {
   "cell_type": "code",
   "execution_count": 2,
   "metadata": {},
   "outputs": [],
   "source": [
    "import os\n",
    "os.chdir(\"../\")"
   ]
  },
  {
   "cell_type": "code",
   "execution_count": 3,
   "metadata": {},
   "outputs": [
    {
     "data": {
      "text/plain": [
       "'c:\\\\Users\\\\karthikeya\\\\Insurance_Premium_Prediction'"
      ]
     },
     "execution_count": 3,
     "metadata": {},
     "output_type": "execute_result"
    }
   ],
   "source": [
    "%pwd"
   ]
  },
  {
   "cell_type": "code",
   "execution_count": null,
   "metadata": {},
   "outputs": [],
   "source": [
    "import os\n",
    "import sys\n",
    "from src.logger import logger\n",
    "import pandas as pd\n",
    "from sklearn.model_selection import train_test_split\n",
    "from dataclasses import dataclass\n",
    "from src.utils import DatabaseHandler\n",
    "import sqlite3\n",
    "from src.db_paths import db_path, table_name, query"
   ]
  },
  {
   "cell_type": "code",
   "execution_count": null,
   "metadata": {},
   "outputs": [],
   "source": []
  },
  {
   "cell_type": "code",
   "execution_count": 5,
   "metadata": {},
   "outputs": [],
   "source": [
    "@dataclass\n",
    "class DatabaseConfig:\n",
    "    database_path: str = db_path\n",
    "    table_name: str = table_name\n",
    "    sql_query: str = query"
   ]
  },
  {
   "cell_type": "code",
   "execution_count": 6,
   "metadata": {},
   "outputs": [],
   "source": [
    "\n",
    "class DatabaseHandler:\n",
    "    def __init__(self):\n",
    "        \"\"\"\n",
    "        Initialize the database handler with the DatabaseConfig to the SQLite database.\n",
    "        \"\"\"\n",
    "        self.db_config = DatabaseConfig()\n",
    "\n",
    "    def initating_data_extraction_from_database(self) ->pd.DataFrame:\n",
    "        try:\n",
    "            self.connection = sqlite3.connect(self.db_config.database_path)\n",
    "            self.cursor = self.connection.cursor()\n",
    "            logger.info(\"Successfully connected to the SQLite database.\")\n",
    "        except sqlite3.Error as e:\n",
    "            print(f\"Error connecting to database: {e}\")\n",
    "\n",
    "        try:\n",
    "            df= pd.read_sql_query(self.db_config.sql_query, self.connection)\n",
    "            return df\n",
    "        except Exception as e:\n",
    "            logger.info(f\"Error reading SQLite to DataFrame: {e}\")\n",
    "\n",
    "    def disconnect(self) -> None:\n",
    "        \"\"\"\n",
    "        Disconnect from the SQLite database.\n",
    "        \"\"\"\n",
    "        try:\n",
    "            if self.connection:\n",
    "                self.connection.close()\n",
    "                logger.info(\"Disconnected from the SQLite database.\")\n",
    "\n",
    "        except Exception as e:\n",
    "            logger.info(f\"Error closing SQLite database connection: {e}\")\n",
    "            raise e\n"
   ]
  },
  {
   "cell_type": "code",
   "execution_count": 7,
   "metadata": {},
   "outputs": [],
   "source": [
    "@dataclass\n",
    "class DataIngestionConfig:\n",
    "    train_data_path: str = os.path.join(\"artifacts\", \"train_data.csv\")\n",
    "    test_data_path: str = os.path.join(\"artifacts\", \"test_data.csv\")\n",
    "    raw_data_path: str = os.path.join(\"artifacts\",\"raw_data.csv\")"
   ]
  },
  {
   "cell_type": "code",
   "execution_count": null,
   "metadata": {},
   "outputs": [],
   "source": [
    "class DataIngestion:\n",
    "\n",
    "    def __init__(self):\n",
    "        self.ingestion_config = DataIngestionConfig()\n",
    "\n",
    "    def initiate_data_ingestion(self):\n",
    "        logger.info(\"Entered the data ingestion method\")\n",
    "    \n",
    "        try :\n",
    "            logger.info(\"Establishing Connection with SQLite databse\")\n",
    "            db_handler = DatabaseHandler()\n",
    "            raw_data = db_handler.initating_data_extraction_from_database()\n",
    "            \n",
    "            print(raw_data)\n",
    "\n",
    "            logger.info(\"Successfuly read the raw data as dataframe\")\n",
    "\n",
    "            db_handler.disconnect()\n",
    "            logger.info(\"Disconnected from SQLite database\")\n",
    "\n",
    "            \n",
    "            logger.info(\"Train Test Split Initiated\")\n",
    "\n",
    "            train_set,test_set = train_test_split(raw_data, test_size=0.3, random_state=42)\n",
    "            os.makedirs(os.path.join(\"artifacts\",'self.ingestion.config.raw_data_path'), exist_ok=True)\n",
    "            raw_data.to_csv(self.ingestion_config.raw_data_path, index=False, header=True)\n",
    "            train_set.to_csv(self.ingestion_config.train_data_path, index=False, header=True)\n",
    "            test_set.to_csv(self.ingestion_config.test_data_path, index=False, header=True)\n",
    "\n",
    "            logger.info(\"Data ingestion is complete\")\n",
    "\n",
    "            return(\n",
    "                self.ingestion_config.raw_data_path,\n",
    "                self.ingestion_config.train_data_path,\n",
    "                self.ingestion_config.test_data_path\n",
    "            )\n",
    "\n",
    "        except Exception as e:\n",
    "            logger.info(\"Probelm initating the data ingestion method {e}\")\n",
    "            raise e"
   ]
  },
  {
   "cell_type": "code",
   "execution_count": 11,
   "metadata": {},
   "outputs": [
    {
     "name": "stdout",
     "output_type": "stream",
     "text": [
      "[2024-11-15 15:35:04,470, INFO, 4205154732, Entered the data ingestion method ]\n",
      "[2024-11-15 15:35:04,472, INFO, 4205154732, Establishing Connection with SQLite databse ]\n",
      "[2024-11-15 15:35:04,474, INFO, 2633698196, Successfully connected to the SQLite database. ]\n",
      "         age  gender    bmi children smoker     region      medical_history  \\\n",
      "0       46.0    male  21.45      5.0    yes  southeast             Diabetes   \n",
      "1       25.0  female  25.38      2.0    yes  northwest             Diabetes   \n",
      "2       38.0    male  44.88      2.0    yes  southwest                        \n",
      "3       25.0    male  19.89      0.0     no  northwest                        \n",
      "4       49.0    male  38.21      3.0    yes  northwest             Diabetes   \n",
      "...      ...     ...    ...      ...    ...        ...                  ...   \n",
      "999995  59.0    male  46.67      2.0     no  northeast  High blood pressure   \n",
      "999996  33.0    male  36.83      2.0     no  northeast                        \n",
      "999997  39.0    male  39.84      0.0    yes  northeast        Heart disease   \n",
      "999998  37.0  female  45.06      4.0    yes  northeast  High blood pressure   \n",
      "999999  41.0    male  30.02      2.0    yes  northeast             Diabetes   \n",
      "\n",
      "       family_medical_history exercise_frequency    occupation coverage_level  \\\n",
      "0                                          Never   Blue collar        Premium   \n",
      "1         High blood pressure       Occasionally  White collar        Premium   \n",
      "2         High blood pressure       Occasionally   Blue collar        Premium   \n",
      "3                    Diabetes             Rarely  White collar       Standard   \n",
      "4         High blood pressure             Rarely  White collar       Standard   \n",
      "...                       ...                ...           ...            ...   \n",
      "999995                                Frequently       Student          Basic   \n",
      "999996    High blood pressure         Frequently    Unemployed          Basic   \n",
      "999997    High blood pressure             Rarely   Blue collar       Standard   \n",
      "999998               Diabetes       Occasionally    Unemployed        Premium   \n",
      "999999          Heart disease       Occasionally   Blue collar       Standard   \n",
      "\n",
      "                   charges  \n",
      "0       20460.307668871566  \n",
      "1         20390.8992176422  \n",
      "2       20204.476301934814  \n",
      "3       11789.029842697417  \n",
      "4       19268.309838159606  \n",
      "...                    ...  \n",
      "999995  11584.134899834857  \n",
      "999996   9834.871456313933  \n",
      "999997   22076.63285624022  \n",
      "999998  20297.618727674948  \n",
      "999999   23429.72502964855  \n",
      "\n",
      "[1000000 rows x 12 columns]\n",
      "[2024-11-15 15:35:11,757, INFO, 4205154732, Successfuly read the raw data as dataframe ]\n",
      "[2024-11-15 15:35:11,759, INFO, 2633698196, Disconnected from the SQLite database. ]\n",
      "[2024-11-15 15:35:11,760, INFO, 4205154732, Disconnected from SQLite database ]\n",
      "[2024-11-15 15:35:11,761, INFO, 4205154732, Train Test Split Initiated ]\n",
      "[2024-11-15 15:35:30,240, INFO, 4205154732, Data ingestion is complete ]\n"
     ]
    },
    {
     "data": {
      "text/plain": [
       "('artifacts\\\\raw_data.csv',\n",
       " 'artifacts\\\\train_data.csv',\n",
       " 'artifacts\\\\test_data.csv')"
      ]
     },
     "execution_count": 11,
     "metadata": {},
     "output_type": "execute_result"
    }
   ],
   "source": [
    "DI = DataIngestion()\n",
    "DI.initiate_data_ingestion()"
   ]
  },
  {
   "cell_type": "code",
   "execution_count": null,
   "metadata": {},
   "outputs": [],
   "source": []
  }
 ],
 "metadata": {
  "kernelspec": {
   "display_name": "Python 3",
   "language": "python",
   "name": "python3"
  },
  "language_info": {
   "codemirror_mode": {
    "name": "ipython",
    "version": 3
   },
   "file_extension": ".py",
   "mimetype": "text/x-python",
   "name": "python",
   "nbconvert_exporter": "python",
   "pygments_lexer": "ipython3",
   "version": "3.13.0"
  }
 },
 "nbformat": 4,
 "nbformat_minor": 2
}
