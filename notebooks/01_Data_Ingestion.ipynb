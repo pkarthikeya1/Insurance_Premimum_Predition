{
 "cells": [
  {
   "cell_type": "code",
   "execution_count": 1,
   "metadata": {},
   "outputs": [
    {
     "data": {
      "text/plain": [
       "'c:\\\\Users\\\\karthikeya\\\\Insurance_Premium_Prediction\\\\notebooks'"
      ]
     },
     "execution_count": 1,
     "metadata": {},
     "output_type": "execute_result"
    }
   ],
   "source": [
    "%pwd"
   ]
  },
  {
   "cell_type": "code",
   "execution_count": 3,
   "metadata": {},
   "outputs": [],
   "source": [
    "import os\n",
    "os.chdir(\"../\")"
   ]
  },
  {
   "cell_type": "code",
   "execution_count": 4,
   "metadata": {},
   "outputs": [
    {
     "data": {
      "text/plain": [
       "'c:\\\\Users\\\\karthikeya\\\\Insurance_Premium_Prediction'"
      ]
     },
     "execution_count": 4,
     "metadata": {},
     "output_type": "execute_result"
    }
   ],
   "source": [
    "%pwd"
   ]
  },
  {
   "cell_type": "code",
   "execution_count": null,
   "metadata": {},
   "outputs": [],
   "source": [
    "import os\n",
    "import sys\n",
    "from src.logger import logger\n",
    "import pandas as pd\n",
    "\n",
    "from sklearn.model_selection import train_test_split\n",
    "from dataclasses import dataclass\n",
    "from src.utils import DatabaseHandler\n",
    "import sqlite3\n",
    "from src.db_paths import db_path, table_name, query"
   ]
  },
  {
   "cell_type": "code",
   "execution_count": null,
   "metadata": {},
   "outputs": [],
   "source": []
  },
  {
   "cell_type": "code",
   "execution_count": 13,
   "metadata": {},
   "outputs": [],
   "source": [
    "@dataclass\n",
    "class DatabaseConfig:\n",
    "    database_path: str = db_path\n",
    "    table_name: str = table_name\n",
    "    sql_query: str = query"
   ]
  },
  {
   "cell_type": "code",
   "execution_count": null,
   "metadata": {},
   "outputs": [],
   "source": [
    "\n",
    "class DatabaseHandler:\n",
    "    def __init__(self):\n",
    "        \"\"\"\n",
    "        Initialize the database handler with the DatabaseConfig to the SQLite database.\n",
    "        \"\"\"\n",
    "        self.db_config = DatabaseConfig()\n",
    "\n",
    "    def initating_data_extraction_from_database(self) ->pd.DataFrame:\n",
    "        try:\n",
    "            self.connection = sqlite3.connect(self.db_config.database_path)\n",
    "            self.cursor = self.connection.cursor()\n",
    "            logger.log(\"Successfully connected to the SQLite database.\")\n",
    "        except sqlite3.Error as e:\n",
    "            print(f\"Error connecting to database: {e}\")\n",
    "\n",
    "        try:\n",
    "            return pd.read_sql_query(self.db_config.sql_query, self.connection)\n",
    "        except Exception as e:\n",
    "            logger.log(f\"Error reading SQLite to DataFrame: {e}\")\n",
    "\n",
    "    def disconnect(self) -> None:\n",
    "        \"\"\"\n",
    "        Disconnect from the SQLite database.\n",
    "        \"\"\"\n",
    "        try:\n",
    "            if self.connection:\n",
    "                self.connection.close()\n",
    "                logger.log(\"Disconnected from the SQLite database.\")\n",
    "\n",
    "        except Exception as e:\n",
    "            logger.error(f\"Error closing SQLite database connection: {e}\")\n",
    "            raise e\n"
   ]
  },
  {
   "cell_type": "code",
   "execution_count": null,
   "metadata": {},
   "outputs": [],
   "source": [
    "@dataclass\n",
    "class DataIngestionConfig:\n",
    "    train_data_path: str = os.path.join(\"artifacts\", \"train_data.csv\")\n",
    "    test_data_path: str = os.path.join(\"artifacts\", \"test_data.csv\")\n",
    "    raw_data_path: str = os.path.join(\"artifacts\",\"raw_data.csv\")"
   ]
  },
  {
   "cell_type": "code",
   "execution_count": null,
   "metadata": {},
   "outputs": [],
   "source": [
    "class DataIngestion:\n",
    "\n",
    "    def __init__(self) -> None:\n",
    "        self.ingestion_config = DataIngestionConfig()\n",
    "\n",
    "    def initiate_data_ingestion(self):\n",
    "        logger.info(\"Entered the data ingestion method\")\n",
    "    \n",
    "        try :\n",
    "            logger.info(\"Establishing Connection with SQLite databse\")\n",
    "            db_handler = DatabaseHandler()\n",
    "            raw_data = db_handler.initating_data_extraction_from_database()\n",
    "            logger.info(\"Successfuly read the raw data as dataframe\")\n",
    "\n",
    "            db_handler.disconnect()\n",
    "            logger.info(\"Disconnected from SQLite database\")\n",
    "\n",
    "            \n",
    "            logger.info(\"Train Test Split Initiated\")\n",
    "\n",
    "            train_set,test_set = train_test_split(raw_data, test_size=0.3, random_state=42)\n",
    "\n",
    "            raw_data.to_csv(self.ingestion_config.raw_data_path, index=False, header=True)\n",
    "            train_set.to_csv(self.ingestion_config.train_data_path, index=False, header=True)\n",
    "            test_set.to_csv(self.ingestion_config.test_data_path, index=False, header=True)\n",
    "\n",
    "            logger.info(\"Data ingestion is complete\")\n",
    "\n",
    "            return(\n",
    "                self.ingestion_config.raw_data_path,\n",
    "                self.ingestion_config.train_data_path,\n",
    "                self.ingestion_config.test_data_path\n",
    "            )\n",
    "\n",
    "        except Exception as e:\n",
    "            logger.error(\"Probelm initating the data ingestion method {e}\")\n",
    "            raise e"
   ]
  }
 ],
 "metadata": {
  "kernelspec": {
   "display_name": "Python 3",
   "language": "python",
   "name": "python3"
  },
  "language_info": {
   "codemirror_mode": {
    "name": "ipython",
    "version": 3
   },
   "file_extension": ".py",
   "mimetype": "text/x-python",
   "name": "python",
   "nbconvert_exporter": "python",
   "pygments_lexer": "ipython3",
   "version": "3.13.0"
  }
 },
 "nbformat": 4,
 "nbformat_minor": 2
}
